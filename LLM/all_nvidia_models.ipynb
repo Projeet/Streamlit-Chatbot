{
 "cells": [
  {
   "cell_type": "code",
   "execution_count": 1,
   "metadata": {},
   "outputs": [],
   "source": [
    "from dotenv import load_dotenv\n",
    "load_dotenv()\n",
    "\n",
    "from langchain_nvidia_ai_endpoints import ChatNVIDIA\n",
    "from langchain_core.messages import HumanMessage, SystemMessage"
   ]
  },
  {
   "cell_type": "code",
   "execution_count": 12,
   "metadata": {},
   "outputs": [
    {
     "name": "stdout",
     "output_type": "stream",
     "text": [
      "ai-arctic\n",
      "ai-codegemma-7b\n",
      "ai-codellama-70b\n",
      "ai-gemma-2b\n",
      "ai-gemma-7b\n",
      "ai-llama2-70b\n",
      "ai-llama3-70b\n",
      "ai-llama3-8b\n",
      "ai-mistral-7b-instruct-v2\n",
      "ai-mistral-large\n",
      "ai-mixtral-8x22b-instruct\n",
      "ai-mixtral-8x7b-instruct\n",
      "ai-phi-3-mini\n",
      "ai-recurrentgemma-2b\n"
     ]
    }
   ],
   "source": [
    "for model in ChatNVIDIA.get_available_models():\n",
    "    if model.model_type=='chat':\n",
    "        print(model.id)\n",
    "    "
   ]
  },
  {
   "cell_type": "code",
   "execution_count": 15,
   "metadata": {},
   "outputs": [
    {
     "data": {
      "text/plain": [
       "ChatMessage(content='🗳️ LangChain is a decentralized platform that promotes', response_metadata={'role': 'assistant', 'content': '🗳️ LangChain is a decentralized platform that promotes', 'token_usage': {'prompt_tokens': 34, 'total_tokens': 50, 'completion_tokens': 16}, 'model_name': 'ai-codellama-70b'}, id='run-50373c6e-72ee-4945-95ab-bc43372779a4-0', role='assistant')"
      ]
     },
     "execution_count": 15,
     "metadata": {},
     "output_type": "execute_result"
    }
   ],
   "source": [
    "human_message=\"What is langchain ?\"\n",
    "messages=[\n",
    "    SystemMessage(content=\"You are chatbot assistant\"),\n",
    "    HumanMessage(content=human_message)\n",
    "]\n",
    "\n",
    "model=\"ai-codellama-70b\"\n",
    "llm=ChatNVIDIA(model=model)\n",
    "\n",
    "llm.invoke(messages)"
   ]
  },
  {
   "cell_type": "code",
   "execution_count": null,
   "metadata": {},
   "outputs": [],
   "source": []
  }
 ],
 "metadata": {
  "kernelspec": {
   "display_name": "streamlit_bot",
   "language": "python",
   "name": "python3"
  },
  "language_info": {
   "codemirror_mode": {
    "name": "ipython",
    "version": 3
   },
   "file_extension": ".py",
   "mimetype": "text/x-python",
   "name": "python",
   "nbconvert_exporter": "python",
   "pygments_lexer": "ipython3",
   "version": "3.9.19"
  }
 },
 "nbformat": 4,
 "nbformat_minor": 2
}
